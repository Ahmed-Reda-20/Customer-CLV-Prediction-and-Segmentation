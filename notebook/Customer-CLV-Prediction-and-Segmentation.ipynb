{
 "cells": [
  {
   "cell_type": "code",
   "execution_count": null,
   "id": "5cd885b1-3269-41f8-99ee-6d4d7fac2762",
   "metadata": {},
   "outputs": [],
   "source": [
    "\n",
    "import pandas as pd\n",
    "import matplotlib.pyplot as plt\n",
    "import seaborn as sns\n",
    "import numpy as np\n",
    "from sklearn import linear_model\n",
    "from sklearn.metrics import mean_squared_error, r2_score\n",
    "from sklearn.model_selection import train_test_split\n",
    "from sklearn.cluster import KMeans\n",
    "from sklearn.metrics import silhouette_score\n",
    "from IPython.display import display\n"
   ]
  },
  {
   "cell_type": "code",
   "execution_count": null,
   "id": "0b5c2f62-4a4d-41b9-a2ce-1066507b86b7",
   "metadata": {},
   "outputs": [],
   "source": [
    "#reading df\n",
    "path = r\"C:\\Users\\Ahmed\\Desktop\\Project Mats\\CLV-Prediction-Project\\data\\Metrics.csv\"\n",
    "df = pd.read_csv(path)\n",
    "\n",
    "#data representation\n",
    "df.describe()"
   ]
  },
  {
   "cell_type": "code",
   "execution_count": null,
   "id": "1c463cbe",
   "metadata": {},
   "outputs": [],
   "source": [
    "#adding quantityperorder column\n",
    "df[\"QuantityPerOrder\"] = df[\"TotalQuantity\"] / df[\"Frequency\"]\n",
    "df[\"QuantityPerOrder\"].describe()"
   ]
  },
  {
   "cell_type": "code",
   "execution_count": null,
   "id": "454f48f8",
   "metadata": {},
   "outputs": [],
   "source": [
    "#Visualize distributions and boxplots for each column except CustomerID\n",
    "for label in df.columns[1:]:\n",
    "    plt.figure(figsize=(4,3))\n",
    "    plt.hist(df[label])\n",
    "    plt.xlabel(label)\n",
    "    plt.show()\n",
    "\n",
    "    plt.figure(figsize=(4,3))\n",
    "    plt.boxplot(df[label])\n",
    "    plt.show()\n",
    "\n",
    "\n"
   ]
  },
  {
   "cell_type": "code",
   "execution_count": null,
   "id": "009e2657",
   "metadata": {},
   "outputs": [],
   "source": [
    "#Drop rows where CLV is negative\n",
    "#(Because negative values returns NaN when log transforming data so it will be useless either way)\n",
    "#(The reason because of negative CLV is because some avgorder value in negative which is because high returns)\n",
    "df = df[df['CLV'] >= 0]\n",
    "#Apply log and square root transformations to selected columns\n",
    "to_transform = [\"TotalSales\", \"Frequency\", \"AverageOrderValue\", \"CLV\",\"TotalQuantity\",\"QuantityPerOrder\"]\n",
    "dflogged = df.copy()\n",
    "for label in to_transform:\n",
    "    if label == \"CLV\":\n",
    "        dflogged[label] = np.log1p(dflogged[label])\n",
    "    else:\n",
    "        dflogged[label] = np.sqrt(dflogged[label])\n",
    "#somehow this creates 2 NAN values in 2 columns which we can afford to lose so we will delete these rows\n",
    "dflogged = dflogged.dropna().reset_index(drop=True)\n"
   ]
  },
  {
   "cell_type": "code",
   "execution_count": null,
   "id": "6a9e2998",
   "metadata": {},
   "outputs": [],
   "source": [
    "dflogged.describe()"
   ]
  },
  {
   "cell_type": "code",
   "execution_count": null,
   "id": "d213c2d8",
   "metadata": {},
   "outputs": [],
   "source": [
    "for label in dflogged.columns[1:]:\n",
    "    #histograms\n",
    "    plt.figure(figsize=(4,3))\n",
    "    sns.histplot(dflogged[label],bins=6,kde=True)\n",
    "    plt.xlabel(label)\n",
    "    plt.show()\n",
    "    #boxplots\n",
    "    plt.figure(figsize=(4,3))\n",
    "    sns.boxplot(dflogged[label])\n",
    "    plt.xlabel(label)\n",
    "    plt.show()"
   ]
  },
  {
   "cell_type": "code",
   "execution_count": null,
   "id": "cf2e7380",
   "metadata": {},
   "outputs": [],
   "source": [
    "#Calculate IQR-based bounds for outlier detection for selected columns\n",
    "columns_to_check = [\"TotalSales\", \"Frequency\", \"AverageOrderValue\",\"TotalQuantity\",\"QuantityPerOrder\",\"CLV\"]\n",
    "bounds = {}\n",
    "\n",
    "for col in columns_to_check:\n",
    "    Q1 = dflogged[col].quantile(0.25)\n",
    "    Q3 = dflogged[col].quantile(0.75)\n",
    "    IQR = Q3 - Q1\n",
    "    bounds[col] = (Q1 - 1.5 * IQR,Q3 + 1.5 * IQR)\n"
   ]
  },
  {
   "cell_type": "code",
   "execution_count": null,
   "id": "19afe372",
   "metadata": {},
   "outputs": [],
   "source": [
    "#Filter out outliers based on IQR bounds for selected columns\n",
    "mask = pd.Series(True,index=dflogged.index)\n",
    "for col in columns_to_check:\n",
    "    low, high = bounds[col]\n",
    "    mask &= (dflogged[col] >= low) & (dflogged[col] <= high)\n",
    "\n",
    "dflogged = dflogged[mask].reset_index(drop=True)\n",
    "dflogged.describe()\n",
    "\n",
    "#NOTE for later \n",
    "#&= not = (line 5)"
   ]
  },
  {
   "cell_type": "code",
   "execution_count": null,
   "id": "d85a3a1d",
   "metadata": {},
   "outputs": [],
   "source": [
    "for label in dflogged.columns[1:]:\n",
    "    #histograms\n",
    "    plt.figure(figsize=(4,3))\n",
    "    sns.histplot(dflogged[label],bins=6,kde=True)\n",
    "    plt.xlabel(label)\n",
    "    plt.show()\n",
    "    #boxplots\n",
    "    plt.figure(figsize=(4,3))\n",
    "    sns.boxplot(dflogged[label])\n",
    "    plt.xlabel(label)\n",
    "    plt.show()\n",
    "   "
   ]
  },
  {
   "cell_type": "code",
   "execution_count": null,
   "id": "ba6d943a",
   "metadata": {},
   "outputs": [],
   "source": []
  },
  {
   "cell_type": "code",
   "execution_count": null,
   "id": "4b0768ae",
   "metadata": {},
   "outputs": [],
   "source": [
    "#Compute correlation matrix and plot heatmap for transformed features (excluding 'Segment')\n",
    "DfForHeatMap = dflogged.corr(method=\"pearson\")\n",
    "sns.heatmap(DfForHeatMap, annot=True, fmt=\".2f\", linewidth=.5)\n",
    "plt.show()"
   ]
  },
  {
   "cell_type": "markdown",
   "id": "199fd66f",
   "metadata": {},
   "source": [
    "Regression"
   ]
  },
  {
   "cell_type": "code",
   "execution_count": null,
   "id": "3f689388",
   "metadata": {},
   "outputs": [],
   "source": [
    "#Split features and target variable for regression\n",
    "X = dflogged.drop(columns=[\"CLV\"])\n",
    "Y = dflogged[\"CLV\"]\n"
   ]
  },
  {
   "cell_type": "code",
   "execution_count": null,
   "id": "3d3365dd",
   "metadata": {},
   "outputs": [],
   "source": [
    "#Split the data into training and testing sets (80% train, 20% test)\n",
    "X_train, X_test, Y_train, Y_test = train_test_split(X, Y, test_size=0.2)\n"
   ]
  },
  {
   "cell_type": "code",
   "execution_count": null,
   "id": "f9869f37",
   "metadata": {},
   "outputs": [],
   "source": [
    "#defining regression model\n",
    "rmodel = linear_model.LinearRegression()"
   ]
  },
  {
   "cell_type": "code",
   "execution_count": null,
   "id": "88080298",
   "metadata": {},
   "outputs": [],
   "source": [
    "#building the training model\n",
    "rmodel.fit(X_train, Y_train)"
   ]
  },
  {
   "cell_type": "code",
   "execution_count": null,
   "id": "df2ba680",
   "metadata": {},
   "outputs": [],
   "source": [
    "#using trained model to pridict on X_test\n",
    "Y_pred = rmodel.predict(X_test)"
   ]
  },
  {
   "cell_type": "code",
   "execution_count": null,
   "id": "bdd30445",
   "metadata": {},
   "outputs": [],
   "source": [
    "#printing model perfomance\n",
    "CoefficientValues = pd.DataFrame({\"Feature\": X.columns, \"Coefficient\": rmodel.coef_})\n",
    "display(CoefficientValues)\n",
    "print(\"intercept:\",rmodel.intercept_)\n",
    "print(\"mean sqr error:\",mean_squared_error(Y_test,Y_pred))\n",
    "print(\"r2score\",r2_score(Y_test,Y_pred))\n",
    "#checking for overfitting by calculating r2 for our training data\n",
    "print(\"Train R2:\", r2_score(Y_train, rmodel.predict(X_train)))\n",
    "\n"
   ]
  },
  {
   "cell_type": "markdown",
   "id": "4550b8f8",
   "metadata": {},
   "source": [
    "Clustering"
   ]
  },
  {
   "cell_type": "code",
   "execution_count": null,
   "id": "7fc8d15a",
   "metadata": {},
   "outputs": [],
   "source": [
    "#Select features for clustering (excluding 'CLV' and any non-numeric columns)\n",
    "FeaturesForClustering = dflogged[[\"CLV\"]]\n",
    "\n",
    "#Fit KMeans clustering model (let's use 3 clusters as an example)\n",
    "kmeans = KMeans(n_clusters=3, random_state=42)\n",
    "clusters = kmeans.fit_predict(FeaturesForClustering)\n",
    "\n",
    "#Add cluster labels to the dataframe\n",
    "dflogged[\"Segment\"] = clusters\n",
    "\n",
    "#Map cluster labels to descriptive names\n",
    "dflogged[\"Segment\"] = dflogged[\"Segment\"].map({0:\"medium\",1:\"low\",2:\"high\"})\n",
    "#Show cluster counts\n",
    "dflogged[\"Segment\"].value_counts()\n",
    "#Visualize the clusters by plotting CLV values colored by segment\n",
    "sns.scatterplot(x=dflogged.index, y=dflogged[\"CLV\"],hue=dflogged[\"Segment\"])\n",
    "plt.xlabel(\"Index\")\n",
    "plt.ylabel(\"CLV\")\n",
    "plt.title(\"CLV Clusters by Segment\")\n",
    "plt.show()\n",
    "\n",
    "#NOTE\n",
    "# random_state=42 outputed 3 cluster with three 3 random labels that's why we had to make them meaningful by labeling them into low medium and high\n",
    "# if random_state=42 is changed or removed everytime it will output random labels\n",
    "\n"
   ]
  },
  {
   "cell_type": "code",
   "execution_count": null,
   "id": "c2b67c1f",
   "metadata": {},
   "outputs": [],
   "source": [
    "#Calculate silhouette score for the current KMeans clustering on X(CLV)\n",
    "score = silhouette_score(X, kmeans.fit_predict(X))\n",
    "print(score)"
   ]
  },
  {
   "cell_type": "code",
   "execution_count": null,
   "id": "87ec75aa",
   "metadata": {},
   "outputs": [],
   "source": [
    "\n",
    "#Plot the distribution of customer segments as a pie chart\n",
    "SegmentCounts = dflogged['Segment'].value_counts()\n",
    "plt.pie(SegmentCounts, labels=SegmentCounts.index, autopct='%1.1f%%', startangle=90)\n",
    "plt.title('Customer Segment Distribution')\n",
    "plt.show()\n",
    "SegmentCounts"
   ]
  },
  {
   "cell_type": "code",
   "execution_count": 23,
   "id": "7751edde",
   "metadata": {},
   "outputs": [
    {
     "data": {
      "image/png": "[encoded data removed]",
      "text/plain": [
       "<Figure size 640x480 with 1 Axes>"
      ]
     },
     "metadata": {},
     "output_type": "display_data"
    },
    {
     "data": {
      "text/plain": [
       "Segment\n",
       "high      522794.76\n",
       "low       167320.30\n",
       "medium    266800.01\n",
       "Name: TotalSales, dtype: float64"
      ]
     },
     "execution_count": 23,
     "metadata": {},
     "output_type": "execute_result"
    }
   ],
   "source": [
    "#Assign segment labels from dflogged to df\n",
    "OriginalTotalSales = df[\"TotalSales\"]\n",
    "dflogged[\"TotalSales\"] = OriginalTotalSales\n",
    "\n",
    "#Group by Segment and sum TotalSales, sorting segments as high > medium > low\n",
    "result = dflogged.groupby(\"Segment\")[\"TotalSales\"].sum()\n",
    "\n",
    "#Plot revenue contribution by customer segment as a pie chart\n",
    "plt.pie(result, labels=result.index, startangle=90, autopct='%.1f%%')\n",
    "plt.title(\"Revenue Contribution by Customer Segment\")\n",
    "plt.show()\n",
    "result\n",
    "\n",
    "\n",
    "\n",
    "\n"
   ]
  }
 ],
 "metadata": {
  "kernelspec": {
   "display_name": "Python 3",
   "language": "python",
   "name": "python3"
  },
  "language_info": {
   "codemirror_mode": {
    "name": "ipython",
    "version": 3
   },
   "file_extension": ".py",
   "mimetype": "text/x-python",
   "name": "python",
   "nbconvert_exporter": "python",
   "pygments_lexer": "ipython3",
   "version": "3.11.9"
  }
 },
 "nbformat": 4,
 "nbformat_minor": 5
}
