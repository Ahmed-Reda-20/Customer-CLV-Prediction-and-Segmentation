{
 "cells": [
  {
   "cell_type": "code",
   "execution_count": 1,
   "id": "5cd885b1-3269-41f8-99ee-6d4d7fac2762",
   "metadata": {},
   "outputs": [],
   "source": [
    "import pandas as pd\n",
    "import matplotlib.pyplot as plt\n",
    "import seaborn as sns\n",
    "import numpy as np"
   ]
  },
  {
   "cell_type": "code",
   "execution_count": 2,
   "id": "0b5c2f62-4a4d-41b9-a2ce-1066507b86b7",
   "metadata": {},
   "outputs": [],
   "source": [
    "#reading my data then using numpy log method to log transform\n",
    "M = r\"c:\\Users\\Ahmed\\Desktop\\Project Mats\\Metrics.csv\"\n",
    "df = pd.read_csv(M)"
   ]
  },
  {
   "cell_type": "code",
   "execution_count": 3,
   "id": "7ade1d93-a392-4a19-b959-d9ba531c5389",
   "metadata": {},
   "outputs": [],
   "source": [
    "#creating a new column for log transformation for better distribution \n",
    "df['Log_CLV'] = np.log1p(df['CLV'])"
   ]
  },
  {
   "cell_type": "code",
   "execution_count": null,
   "id": "924824b3-da1f-4823-979c-71507a6687ed",
   "metadata": {},
   "outputs": [],
   "source": []
  }
 ],
 "metadata": {
  "kernelspec": {
   "display_name": "Python 3 (ipykernel)",
   "language": "python",
   "name": "python3"
  },
  "language_info": {
   "codemirror_mode": {
    "name": "ipython",
    "version": 3
   },
   "file_extension": ".py",
   "mimetype": "text/x-python",
   "name": "python",
   "nbconvert_exporter": "python",
   "pygments_lexer": "ipython3",
   "version": "3.11.9"
  }
 },
 "nbformat": 4,
 "nbformat_minor": 5
}
