{
 "cells": [
  {
   "cell_type": "code",
   "execution_count": null,
   "id": "5cd885b1-3269-41f8-99ee-6d4d7fac2762",
   "metadata": {},
   "outputs": [],
   "source": [
    "\n",
    "import pandas as pd\n",
    "import matplotlib.pyplot as plt\n",
    "import seaborn as sns\n",
    "import numpy as np\n",
    "from sklearn import linear_model\n",
    "from sklearn.metrics import mean_squared_error, r2_score\n",
    "from sklearn.model_selection import train_test_split"
   ]
  },
  {
   "cell_type": "code",
   "execution_count": null,
   "id": "0b5c2f62-4a4d-41b9-a2ce-1066507b86b7",
   "metadata": {},
   "outputs": [],
   "source": [
    "#reading df\n",
    "path = r\"c:\\Users\\Ahmed\\Desktop\\Project Mats\\Metrics.csv\"\n",
    "df = pd.read_csv(path)\n",
    "#Drop rows where CLV is negative\n",
    "#(Because negative values returns NaN when log transforming data so it will be useless either way)\n",
    "#(The reason because of negative CLV is because some avgorder value in negative which is because high returns)\n",
    "df = df[df['CLV'] >= 0]"
   ]
  },
  {
   "cell_type": "code",
   "execution_count": null,
   "id": "ed038b7a",
   "metadata": {},
   "outputs": [],
   "source": [
    "#describing our data basic properties (Descriptive statistics)\n",
    "df.describe()"
   ]
  },
  {
   "cell_type": "code",
   "execution_count": null,
   "id": "454f48f8",
   "metadata": {},
   "outputs": [],
   "source": [
    "for label in df.columns[1:]:\n",
    "    plt.figure(figsize=(4,3))\n",
    "    plt.hist(df[label])\n",
    "    plt.xlabel(label)\n",
    "    plt.show()\n",
    "\n",
    "    plt.figure(figsize=(4,3))\n",
    "    plt.boxplot(df[label])\n",
    "    plt.xlabel(label)\n",
    "    plt.show()\n",
    "\n",
    "\n"
   ]
  },
  {
   "cell_type": "code",
   "execution_count": null,
   "id": "cf2e7380",
   "metadata": {},
   "outputs": [],
   "source": [
    "columns_to_check = [\"TotalSales\", \"Frequency\", \"AverageOrderValue\", \"CLV\"]\n",
    "df_clean = df\n",
    "for col in columns_to_check:\n",
    "    Q1 = df[col].quantile(0.25)\n",
    "    Q3 = df[col].quantile(0.75)\n",
    "    IQR = Q3 - Q1\n",
    "    df = df[~((df[col] < (Q1 - 1.5 * IQR)) | (df[col] > (Q3 + 1.5 * IQR)))]\n",
    "df_clean = df.dropna().reset_index(drop=True)\n"
   ]
  },
  {
   "cell_type": "code",
   "execution_count": null,
   "id": "d85a3a1d",
   "metadata": {},
   "outputs": [],
   "source": [
    "for label in df_clean.columns[1:]:\n",
    "    plt.figure(figsize=(4,3))\n",
    "    plt.hist(df_clean[label])\n",
    "    plt.xlabel(label)\n",
    "    plt.show()\n",
    "\n",
    "    plt.figure(figsize=(4,3))\n",
    "    plt.boxplot(df_clean[label])\n",
    "    plt.xlabel(label)\n",
    "    plt.show()\n",
    "\n",
    "   "
   ]
  },
  {
   "cell_type": "code",
   "execution_count": null,
   "id": "ba6d943a",
   "metadata": {},
   "outputs": [],
   "source": [
    "to_transform = [\"TotalSales\",\"Frequency\",\"AverageOrderValue\",\"CLV\"]\n",
    "dflogged = df_clean.copy()\n",
    "for label in to_transform:\n",
    "    if label == \"CLV\":\n",
    "        dflogged[label] = np.log1p(dflogged[label])\n",
    "    else:\n",
    "        dflogged[label] = np.sqrt(dflogged[label])\n",
    "    \n"
   ]
  },
  {
   "cell_type": "code",
   "execution_count": null,
   "id": "3a95d73e",
   "metadata": {},
   "outputs": [],
   "source": [
    "#the logged proprerties\n",
    "dflogged.describe()"
   ]
  },
  {
   "cell_type": "code",
   "execution_count": null,
   "id": "75577c06",
   "metadata": {},
   "outputs": [],
   "source": [
    "#the figures after log transformation\n",
    "for label in dflogged.columns[1:]:\n",
    "    #histograms\n",
    "    plt.figure(figsize=(4,3))\n",
    "    sns.histplot(dflogged[label],bins=6,kde=True)\n",
    "    plt.xlabel(label)\n",
    "    plt.show()\n",
    "    #boxplots\n",
    "    plt.figure(figsize=(4,3))\n",
    "    sns.boxplot(dflogged[label])\n",
    "    plt.xlabel(label)\n",
    "    plt.show()\n"
   ]
  },
  {
   "cell_type": "code",
   "execution_count": null,
   "id": "e6f5f479",
   "metadata": {},
   "outputs": [],
   "source": [
    "#describing our data basic properties (Descriptive statistics)\n",
    "dflogged.describe()"
   ]
  },
  {
   "cell_type": "code",
   "execution_count": null,
   "id": "3f689388",
   "metadata": {},
   "outputs": [],
   "source": [
    "X = dflogged.iloc[:, 0:-1]\n",
    "Y = dflogged.iloc[:, -1]"
   ]
  },
  {
   "cell_type": "code",
   "execution_count": null,
   "id": "3d3365dd",
   "metadata": {},
   "outputs": [],
   "source": [
    "X_train, X_test, Y_train, Y_test = train_test_split(X,Y,test_size=0.2)\n"
   ]
  },
  {
   "cell_type": "code",
   "execution_count": null,
   "id": "f9869f37",
   "metadata": {},
   "outputs": [],
   "source": [
    "#defining regression model\n",
    "rmodel = linear_model.LinearRegression()"
   ]
  },
  {
   "cell_type": "code",
   "execution_count": null,
   "id": "88080298",
   "metadata": {},
   "outputs": [],
   "source": [
    "#building the training model\n",
    "rmodel.fit(X_train, Y_train)"
   ]
  },
  {
   "cell_type": "code",
   "execution_count": null,
   "id": "df2ba680",
   "metadata": {},
   "outputs": [],
   "source": [
    "#using trained model to pridict on X_test\n",
    "Y_pred = rmodel.predict(X_test)"
   ]
  },
  {
   "cell_type": "code",
   "execution_count": null,
   "id": "bdd30445",
   "metadata": {},
   "outputs": [],
   "source": [
    "#printing model perfomance\n",
    "print(\"coefficients:\",rmodel.coef_)\n",
    "print(\"intercept:\",rmodel.intercept_)\n",
    "print(\"mean sqr error:\",mean_squared_error(Y_test,Y_pred))\n",
    "print(\"r2score\",r2_score(Y_test,Y_pred))"
   ]
  },
  {
   "cell_type": "markdown",
   "id": "4550b8f8",
   "metadata": {},
   "source": []
  }
 ],
 "metadata": {
  "kernelspec": {
   "display_name": "Python 3",
   "language": "python",
   "name": "python3"
  },
  "language_info": {
   "codemirror_mode": {
    "name": "ipython",
    "version": 3
   },
   "file_extension": ".py",
   "mimetype": "text/x-python",
   "name": "python",
   "nbconvert_exporter": "python",
   "pygments_lexer": "ipython3",
   "version": "3.11.9"
  }
 },
 "nbformat": 4,
 "nbformat_minor": 5
}
